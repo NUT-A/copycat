{
 "cells": [
  {
   "cell_type": "code",
   "execution_count": null,
   "metadata": {},
   "outputs": [],
   "source": [
    "import bittensor as bt\n",
    "\n",
    "bt.logging.set_debug(True)\n",
    "tensor = bt.subtensor(\"archive\")\n",
    "\n",
    "start_block_number = 2978959\n",
    "blocks_to_search = 1000\n",
    "\n",
    "total_subnets = 34\n",
    "subnets_range = range(1, total_subnets + 1)"
   ]
  },
  {
   "cell_type": "markdown",
   "metadata": {},
   "source": [
    "# Collect current axon version"
   ]
  },
  {
   "cell_type": "code",
   "execution_count": null,
   "metadata": {},
   "outputs": [],
   "source": [
    "class AxonInfo:\n",
    "    def __init__(self, hotkey: str, version: int):\n",
    "        self.hotkey = hotkey\n",
    "        self.version = version\n",
    "\n",
    "    def __repr__(self):\n",
    "        return f\"AxonInfo(hotkey={self.hotkey}, version={self.version})\"\n",
    "\n",
    "def get_axon_infos_for_subnet(net_id: int) -> list[AxonInfo]:\n",
    "    metagraph = tensor.metagraph(net_id, block=start_block_number)\n",
    "\n",
    "    uids_list = [id for id in metagraph.uids.tolist() if metagraph.validator_permit[id]]\n",
    "    neurons = [tensor.neuron_for_uid(uid, net_id, block=start_block_number) for uid in uids_list]\n",
    "    return [AxonInfo(neuron.hotkey, neuron.prometheus_info.version) for neuron in neurons]\n",
    "\n",
    "def get_axon_infos_for_all_subnets() -> list[list[AxonInfo]]:\n",
    "    return [get_axon_infos_for_subnet(net_id) for net_id in subnets_range]\n",
    "\n",
    "axon_infos = get_axon_infos_for_all_subnets()\n",
    "axon_infos"
   ]
  },
  {
   "cell_type": "markdown",
   "metadata": {},
   "source": [
    "# Collect latest submitted version"
   ]
  },
  {
   "cell_type": "code",
   "execution_count": null,
   "metadata": {},
   "outputs": [],
   "source": [
    "from dataclasses import dataclass\n",
    "from scalecodec import GenericExtrinsic\n",
    "\n",
    "@dataclass\n",
    "class Extrinsic:\n",
    "    txHash: str\n",
    "    signer: str\n",
    "    success: bool\n",
    "    subnet: int\n",
    "    version: int\n",
    "\n",
    "substrate = tensor.substrate\n",
    "\n",
    "def get_set_weight_extrinsics(block_number: int) -> list[Extrinsic]:\n",
    "    block = substrate.get_block(block_number=block_number)\n",
    "    events = substrate.get_events(block['header']['hash'])\n",
    "\n",
    "    failed_extrinsics = []\n",
    "\n",
    "    for event in events:\n",
    "        event_data = event.value['event']\n",
    "        if event_data['event_id'] == 'ExtrinsicFailed':\n",
    "            failed_extrinsics.append(event.value['extrinsic_idx'])\n",
    "\n",
    "    extrinsics = block['extrinsics']\n",
    "    result = []\n",
    "\n",
    "    for index, extrinsic in enumerate(extrinsics):\n",
    "        extrinsic = extrinsic.value\n",
    "        \n",
    "        call = extrinsic['call']\n",
    "        if call['call_function'] == 'set_weights':\n",
    "            extrinsic_hash = extrinsic['extrinsic_hash']\n",
    "            signer = extrinsic['address']\n",
    "            success = failed_extrinsics.count(index) == 0\n",
    "            \n",
    "            call_args = call['call_args']\n",
    "            subnet = call_args[0]['value']\n",
    "            version = call_args[-1]['value']\n",
    "            result.append(Extrinsic(extrinsic_hash, signer, success, subnet, version))\n",
    "\n",
    "    return result\n",
    "    \n",
    "def get_set_weight_extrinsics_all(starting_block_number: int, blocks_to_search: int) -> list[Extrinsic]:\n",
    "    result = []\n",
    "    for i in range(blocks_to_search):\n",
    "        block_number = starting_block_number - i\n",
    "        try:\n",
    "            result += get_set_weight_extrinsics(block_number)\n",
    "        except Exception as e:\n",
    "            print(f\"Error at block {block_number}: {e}\")\n",
    "    return result\n",
    "\n",
    "all_extrinsics = get_set_weight_extrinsics_all(start_block_number, blocks_to_search)\n",
    "all_extrinsics"
   ]
  },
  {
   "cell_type": "code",
   "execution_count": null,
   "metadata": {},
   "outputs": [],
   "source": [
    "# Subnet ID -> Hotkey -> First non faild extrinsic\n",
    "aggregated_extrinsics = {}\n",
    "\n",
    "for extrinsic in all_extrinsics:\n",
    "    if extrinsic.success:\n",
    "        subnet = extrinsic.subnet\n",
    "        hotkey = extrinsic.signer\n",
    "        success = extrinsic.success\n",
    "\n",
    "        if not success:\n",
    "            continue\n",
    "        \n",
    "        if subnet not in aggregated_extrinsics:\n",
    "            aggregated_extrinsics[subnet] = {}\n",
    "\n",
    "        if hotkey not in aggregated_extrinsics[subnet]:\n",
    "            aggregated_extrinsics[subnet][hotkey] = extrinsic"
   ]
  },
  {
   "cell_type": "markdown",
   "metadata": {},
   "source": [
    "# Merge data"
   ]
  },
  {
   "cell_type": "code",
   "execution_count": null,
   "metadata": {},
   "outputs": [],
   "source": [
    "# Subnet ID -> Hotkey -> Object with min_version axon_version and extrinsics_version\n",
    "result = {}\n",
    "\n",
    "for index, subnet in enumerate(subnets_range):\n",
    "    try:\n",
    "        extrinsics = aggregated_extrinsics[subnet]\n",
    "        axons = axon_infos[index]\n",
    "\n",
    "        result[subnet] = {}\n",
    "        \n",
    "        for axon in axons:\n",
    "            hotkey = axon.hotkey\n",
    "            version = axon.version\n",
    "\n",
    "            if hotkey in extrinsics:\n",
    "                extrinsic = extrinsics[hotkey]\n",
    "                extrinsic_version = extrinsic.version\n",
    "            else:\n",
    "                extrinsic_version = None\n",
    "\n",
    "            result[subnet][hotkey] = {\n",
    "                \"axon_version\": version,\n",
    "                \"subm_version\": extrinsic_version,\n",
    "                \"transaction\": extrinsic.txHash if extrinsic_version is not None else None\n",
    "            }\n",
    "    except Exception as e:\n",
    "        print(f\"Error at subnet {subnet}: {e}\")\n",
    "\n",
    "result"
   ]
  },
  {
   "cell_type": "code",
   "execution_count": 18,
   "metadata": {},
   "outputs": [],
   "source": [
    "# Convert to json\n",
    "import json\n",
    "\n",
    "json_result = json.dumps(result, indent=4)\n",
    "\n",
    "# Save json\n",
    "with open(\"result.json\", \"w\") as file:\n",
    "    file.write(json_result)"
   ]
  }
 ],
 "metadata": {
  "kernelspec": {
   "display_name": ".venv",
   "language": "python",
   "name": "python3"
  },
  "language_info": {
   "codemirror_mode": {
    "name": "ipython",
    "version": 3
   },
   "file_extension": ".py",
   "mimetype": "text/x-python",
   "name": "python",
   "nbconvert_exporter": "python",
   "pygments_lexer": "ipython3",
   "version": "3.10.13"
  }
 },
 "nbformat": 4,
 "nbformat_minor": 2
}
